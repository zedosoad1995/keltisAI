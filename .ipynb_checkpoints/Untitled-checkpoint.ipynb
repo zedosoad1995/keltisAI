{
 "cells": [
  {
   "cell_type": "code",
   "execution_count": 80,
   "id": "a91425f8",
   "metadata": {},
   "outputs": [],
   "source": [
    "def get_line_params(p1, p2):\n",
    "    x1, y1 = p1\n",
    "    x2, y2 = p2\n",
    "    \n",
    "    m = (y2-y1)/(x2-x1)\n",
    "    b = y1-m*x1\n",
    "    \n",
    "    return (m, b)\n",
    "\n",
    "def get_line_y(x, params):\n",
    "    m, b = params\n",
    "    \n",
    "    return m*x + b"
   ]
  },
  {
   "cell_type": "code",
   "execution_count": 81,
   "id": "8c7d86e8",
   "metadata": {},
   "outputs": [],
   "source": [
    "'''\n",
    "Card Distance\n",
    "'''\n",
    "\n",
    "def get_card_distance_x(num_card, num_cards_left):\n",
    "    params = get_line_params([1, prob_min], [max_card_distance, prob_max])\n",
    "    x = (num_card)/(num_cards_left+1)*(max_card_distance+1)\n",
    "        \n",
    "    return get_line_y(x, params)\n",
    "\n",
    "def card_dist_val(num_card, num_cards_left):\n",
    "\n",
    "    prob_min = 0\n",
    "    prob_max = 1\n",
    "\n",
    "    max_card_distance = 11\n",
    "\n",
    "    card_dist_param = get_line_params((0,1), (1,0))\n",
    "\n",
    "    return get_card_distance_x(num_card, num_cards_left)"
   ]
  },
  {
   "cell_type": "code",
   "execution_count": 82,
   "id": "6d56aa32",
   "metadata": {},
   "outputs": [],
   "source": [
    "'''\n",
    "Turn\n",
    "'''\n",
    "\n",
    "def turn_val(turn):\n",
    "    expected_turns = 17\n",
    "\n",
    "    turn_perc = turn/expected_turns\n",
    "\n",
    "    card_dist_param = get_line_params((0,1), (1,1.2))\n",
    "\n",
    "    return get_line_y(turn_perc, card_dist_param)"
   ]
  },
  {
   "cell_type": "code",
   "execution_count": 83,
   "id": "7768c99a",
   "metadata": {},
   "outputs": [],
   "source": [
    "'''\n",
    "Num Stones\n",
    "'''\n",
    "\n",
    "def stone_num_val(turn, stone_num):\n",
    "    if stone_num == 1:\n",
    "        params = get_line_params((1/expected_turns,1), (1,0))\n",
    "    elif stone_num == 2:\n",
    "        params = get_line_params((2/expected_turns,1), (1,0.2))\n",
    "    elif stone_num == 3:\n",
    "        params = get_line_params((3/expected_turns,1.5), (1,2))\n",
    "    elif stone_num == 4:\n",
    "        params = get_line_params((4/expected_turns,1.2), (1,1))\n",
    "    elif stone_num == 5:\n",
    "        params = get_line_params((5/expected_turns,1.3), (1,1.3))\n",
    "    else:\n",
    "        params = get_line_params((6/expected_turns,1.5), (1,1.5))\n",
    "        \n",
    "    return get_line_y(turn, params)"
   ]
  },
  {
   "cell_type": "code",
   "execution_count": 84,
   "id": "9deb2706",
   "metadata": {},
   "outputs": [],
   "source": [
    "'''\n",
    "Has ...\n",
    "'''\n",
    "\n",
    "def stone_val(has_stone, stone_num):\n",
    "    has_stone_mult = {1: 1, 2: 3, 3: 1, 4: 3, 5: 3}\n",
    "    \n",
    "    if stone_num > 5 or not has_stone:\n",
    "        return 0\n",
    "    \n",
    "    return has_stone_mult[stone_num]\n",
    "\n",
    "def jump_val(has_jump):\n",
    "    jump_const = 0.5\n",
    "    return has_jump if jump_const else 0\n",
    "    \n",
    "def one_val(has_one):\n",
    "    one_const = 0.33\n",
    "    return has_one if one_const else 0\n",
    "    \n",
    "def three_val(has_three):\n",
    "    three_const = 1\n",
    "    return has_three if three_const else 0"
   ]
  },
  {
   "cell_type": "code",
   "execution_count": 85,
   "id": "3ce099ed",
   "metadata": {},
   "outputs": [],
   "source": [
    "'''\n",
    "Num Adversaries\n",
    "'''\n",
    "\n",
    "card_dist_param = get_line_params((0,1), (3,0.5))"
   ]
  },
  {
   "cell_type": "code",
   "execution_count": 86,
   "id": "ebb4c23d",
   "metadata": {},
   "outputs": [
    {
     "ename": "NameError",
     "evalue": "name 'num_stones' is not defined",
     "output_type": "error",
     "traceback": [
      "\u001b[1;31m---------------------------------------------------------------------------\u001b[0m",
      "\u001b[1;31mNameError\u001b[0m                                 Traceback (most recent call last)",
      "\u001b[1;32m<ipython-input-86-8a80103c45a3>\u001b[0m in \u001b[0;36m<module>\u001b[1;34m\u001b[0m\n\u001b[0;32m     12\u001b[0m         \u001b[0mturn_val\u001b[0m\u001b[1;33m(\u001b[0m\u001b[0mturn\u001b[0m\u001b[1;33m)\u001b[0m\u001b[1;33m*\u001b[0m\u001b[0;31m\\\u001b[0m\u001b[1;33m\u001b[0m\u001b[1;33m\u001b[0m\u001b[0m\n\u001b[0;32m     13\u001b[0m         \u001b[0mstone_num_val\u001b[0m\u001b[1;33m(\u001b[0m\u001b[0mturn\u001b[0m\u001b[1;33m,\u001b[0m \u001b[0mstone_num\u001b[0m\u001b[1;33m)\u001b[0m\u001b[1;33m*\u001b[0m\u001b[0;31m\\\u001b[0m\u001b[1;33m\u001b[0m\u001b[1;33m\u001b[0m\u001b[0m\n\u001b[1;32m---> 14\u001b[1;33m         \u001b[0mstone_val\u001b[0m\u001b[1;33m(\u001b[0m\u001b[0mhas_stone\u001b[0m\u001b[1;33m,\u001b[0m \u001b[0mtalisman_num\u001b[0m\u001b[1;33m)\u001b[0m\u001b[1;33m*\u001b[0m\u001b[0;31m\\\u001b[0m\u001b[1;33m\u001b[0m\u001b[1;33m\u001b[0m\u001b[0m\n\u001b[0m\u001b[0;32m     15\u001b[0m         \u001b[0mjump_val\u001b[0m\u001b[1;33m(\u001b[0m\u001b[0mhas_jump\u001b[0m\u001b[1;33m)\u001b[0m\u001b[1;33m*\u001b[0m\u001b[0;31m\\\u001b[0m\u001b[1;33m\u001b[0m\u001b[1;33m\u001b[0m\u001b[0m\n\u001b[0;32m     16\u001b[0m         \u001b[0mone_val\u001b[0m\u001b[1;33m(\u001b[0m\u001b[0mhas_one\u001b[0m\u001b[1;33m)\u001b[0m\u001b[1;33m*\u001b[0m\u001b[0;31m\\\u001b[0m\u001b[1;33m\u001b[0m\u001b[1;33m\u001b[0m\u001b[0m\n",
      "\u001b[1;32m<ipython-input-84-c1b59dde399f>\u001b[0m in \u001b[0;36mstone_val\u001b[1;34m(has_stone, stone_num)\u001b[0m\n\u001b[0;32m      6\u001b[0m     \u001b[0mhas_stone_mult\u001b[0m \u001b[1;33m=\u001b[0m \u001b[1;33m{\u001b[0m\u001b[1;36m1\u001b[0m\u001b[1;33m:\u001b[0m \u001b[1;36m1\u001b[0m\u001b[1;33m,\u001b[0m \u001b[1;36m2\u001b[0m\u001b[1;33m:\u001b[0m \u001b[1;36m3\u001b[0m\u001b[1;33m,\u001b[0m \u001b[1;36m3\u001b[0m\u001b[1;33m:\u001b[0m \u001b[1;36m1\u001b[0m\u001b[1;33m,\u001b[0m \u001b[1;36m4\u001b[0m\u001b[1;33m:\u001b[0m \u001b[1;36m3\u001b[0m\u001b[1;33m,\u001b[0m \u001b[1;36m5\u001b[0m\u001b[1;33m:\u001b[0m \u001b[1;36m3\u001b[0m\u001b[1;33m}\u001b[0m\u001b[1;33m\u001b[0m\u001b[1;33m\u001b[0m\u001b[0m\n\u001b[0;32m      7\u001b[0m \u001b[1;33m\u001b[0m\u001b[0m\n\u001b[1;32m----> 8\u001b[1;33m     \u001b[1;32mif\u001b[0m \u001b[0mnum_stones\u001b[0m \u001b[1;33m>\u001b[0m \u001b[1;36m5\u001b[0m \u001b[1;32mor\u001b[0m \u001b[1;32mnot\u001b[0m \u001b[0mhas_stone\u001b[0m\u001b[1;33m:\u001b[0m\u001b[1;33m\u001b[0m\u001b[1;33m\u001b[0m\u001b[0m\n\u001b[0m\u001b[0;32m      9\u001b[0m         \u001b[1;32mreturn\u001b[0m \u001b[1;36m0\u001b[0m\u001b[1;33m\u001b[0m\u001b[1;33m\u001b[0m\u001b[0m\n\u001b[0;32m     10\u001b[0m \u001b[1;33m\u001b[0m\u001b[0m\n",
      "\u001b[1;31mNameError\u001b[0m: name 'num_stones' is not defined"
     ]
    }
   ],
   "source": [
    "num_card = 1\n",
    "num_cards_left = 10\n",
    "turn = 1\n",
    "stone_num = 1\n",
    "talisman_num = 1\n",
    "has_stone = False\n",
    "has_jump = False\n",
    "has_one = False\n",
    "has_three = False\n",
    "\n",
    "score = card_dist_val(num_card, num_cards_left)*\\\n",
    "        turn_val(turn)*\\\n",
    "        stone_num_val(turn, stone_num)*\\\n",
    "        stone_val(has_stone, talisman_num)*\\\n",
    "        jump_val(has_jump)*\\\n",
    "        one_val(has_one)*\\\n",
    "        three_val(has_three)\n",
    "\n",
    "print(score)"
   ]
  }
 ],
 "metadata": {
  "kernelspec": {
   "display_name": "Python 3",
   "language": "python",
   "name": "python3"
  },
  "language_info": {
   "codemirror_mode": {
    "name": "ipython",
    "version": 3
   },
   "file_extension": ".py",
   "mimetype": "text/x-python",
   "name": "python",
   "nbconvert_exporter": "python",
   "pygments_lexer": "ipython3",
   "version": "3.8.5"
  }
 },
 "nbformat": 4,
 "nbformat_minor": 5
}
