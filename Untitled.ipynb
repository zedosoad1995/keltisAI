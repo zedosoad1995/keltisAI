{
 "cells": [
  {
   "cell_type": "code",
   "execution_count": 135,
   "id": "8c991c36",
   "metadata": {},
   "outputs": [],
   "source": [
    "import math\n",
    "\n",
    "def get_line_params(p1, p2):\n",
    "    x1, y1 = p1\n",
    "    x2, y2 = p2\n",
    "    \n",
    "    m = (y2-y1)/(x2-x1)\n",
    "    b = y1-m*x1\n",
    "    \n",
    "    return (m, b)\n",
    "\n",
    "def get_line_y(x, params):\n",
    "    m, b = params\n",
    "    \n",
    "    return m*x + b\n",
    "\n",
    "def log(x):\n",
    "    if x <= 0:\n",
    "        x = 0.000001\n",
    "    return math.log(x)\n",
    "\n",
    "expected_turns = 17"
   ]
  },
  {
   "cell_type": "code",
   "execution_count": 136,
   "id": "57cf5b49",
   "metadata": {},
   "outputs": [],
   "source": [
    "'''\n",
    "Card Distance\n",
    "'''\n",
    "\n",
    "def get_card_distance_x(num_card, num_cards_left):\n",
    "    params = get_line_params([1, prob_min], [max_card_distance, prob_max])\n",
    "    x = (num_card)/(num_cards_left+1)*(max_card_distance+1)\n",
    "        \n",
    "    return get_line_y(x, params)\n",
    "\n",
    "def card_dist_val(num_card, num_cards_left):\n",
    "\n",
    "    prob_min = 0\n",
    "    prob_max = 1\n",
    "\n",
    "    max_card_distance = 11\n",
    "\n",
    "    card_dist_param = get_line_params((0,1), (1,0))\n",
    "\n",
    "    x =  get_card_distance_x(num_card, num_cards_left)\n",
    "\n",
    "    return get_line_y(x, card_dist_param) "
   ]
  },
  {
   "cell_type": "code",
   "execution_count": 137,
   "id": "d47efe38",
   "metadata": {},
   "outputs": [],
   "source": [
    "'''\n",
    "Turn\n",
    "'''\n",
    "\n",
    "def turn_val(turn):\n",
    "\n",
    "    turn_perc = turn/expected_turns\n",
    "\n",
    "    turn_param = get_line_params((0,1), (1,1.2))\n",
    "\n",
    "    return get_line_y(turn_perc, turn_param)"
   ]
  },
  {
   "cell_type": "code",
   "execution_count": 142,
   "id": "0829d35c",
   "metadata": {},
   "outputs": [],
   "source": [
    "'''\n",
    "Num Stones\n",
    "'''\n",
    "\n",
    "def stone_num_val(turn, stone_num):\n",
    "    if stone_num == 1:\n",
    "        params = get_line_params((1/expected_turns,1), (1,0))\n",
    "    elif stone_num == 2:\n",
    "        params = get_line_params((2/expected_turns,1), (1,0.2))\n",
    "    elif stone_num == 3:\n",
    "        params = get_line_params((3/expected_turns,1.5), (1,2))\n",
    "    elif stone_num == 4:\n",
    "        params = get_line_params((4/expected_turns,1.2), (1,1))\n",
    "    elif stone_num == 5:\n",
    "        params = get_line_params((5/expected_turns,1.3), (1,1.3))\n",
    "    else:\n",
    "        params = get_line_params((6/expected_turns,1.5), (1,1.5))\n",
    "        \n",
    "    turn_perc = turn/expected_turns    \n",
    "    \n",
    "    return get_line_y(turn_perc, params)"
   ]
  },
  {
   "cell_type": "code",
   "execution_count": 154,
   "id": "6e2a8d1e",
   "metadata": {},
   "outputs": [],
   "source": [
    "'''\n",
    "Has ...\n",
    "'''\n",
    "\n",
    "def stone_val(has_stone, stone_num):\n",
    "    has_stone_mult = {1: 2, 2: 6, 3: 2, 4: 6, 5: 2}\n",
    "    \n",
    "    if stone_num > 5 or not has_stone:\n",
    "        return 1\n",
    "    \n",
    "    return has_stone_mult[stone_num]\n",
    "\n",
    "def jump_val(has_jump):\n",
    "    jump_const = 1.5\n",
    "    return has_jump if jump_const else 1\n",
    "    \n",
    "def one_val(has_one):\n",
    "    one_const = 1.33\n",
    "    return has_one if one_const else 1\n",
    "    \n",
    "def three_val(has_three):\n",
    "    three_const = 2\n",
    "    return has_three if three_const else 1"
   ]
  },
  {
   "cell_type": "code",
   "execution_count": 155,
   "id": "02b702c0",
   "metadata": {},
   "outputs": [],
   "source": [
    "'''\n",
    "Num Adversaries\n",
    "'''\n",
    "\n",
    "def num_adversaries_val(num_adversaries):\n",
    "    params = get_line_params((0,1), (3,0.5))\n",
    "        \n",
    "    return get_line_y(num_adversaries, params)"
   ]
  },
  {
   "cell_type": "code",
   "execution_count": 158,
   "id": "75285109",
   "metadata": {},
   "outputs": [
    {
     "name": "stdout",
     "output_type": "stream",
     "text": [
      "0.6931471805599453\n",
      "0.0\n",
      "-41.443968117692904\n"
     ]
    }
   ],
   "source": [
    "num_card = 1\n",
    "num_cards_left = 10\n",
    "turn = 1\n",
    "stone_num = 1\n",
    "talisman_num = 1\n",
    "has_stone = False\n",
    "has_jump = False\n",
    "has_one = False\n",
    "has_three = False\n",
    "num_adversaries = 0\n",
    "\n",
    "print(log(stone_val(True, 1)))\n",
    "print(log(stone_val(False, 1)))\n",
    "\n",
    "score = log(card_dist_val(num_card, num_cards_left)) +\\\n",
    "        log(turn_val(turn)) +\\\n",
    "        log(stone_num_val(turn, stone_num)) +\\\n",
    "        log(stone_val(has_stone, talisman_num)) +\\\n",
    "        log(jump_val(has_jump)) +\\\n",
    "        log(one_val(has_one)) +\\\n",
    "        log(three_val(has_three)) +\\\n",
    "        log(num_adversaries_val(num_adversaries))\n",
    "\n",
    "print(score)"
   ]
  },
  {
   "cell_type": "code",
   "execution_count": 153,
   "id": "28a03894",
   "metadata": {},
   "outputs": [
    {
     "data": {
      "text/plain": [
       "0.0"
      ]
     },
     "execution_count": 153,
     "metadata": {},
     "output_type": "execute_result"
    }
   ],
   "source": [
    "log(1)"
   ]
  }
 ],
 "metadata": {
  "kernelspec": {
   "display_name": "Python 3",
   "language": "python",
   "name": "python3"
  },
  "language_info": {
   "codemirror_mode": {
    "name": "ipython",
    "version": 3
   },
   "file_extension": ".py",
   "mimetype": "text/x-python",
   "name": "python",
   "nbconvert_exporter": "python",
   "pygments_lexer": "ipython3",
   "version": "3.8.5"
  }
 },
 "nbformat": 4,
 "nbformat_minor": 5
}
